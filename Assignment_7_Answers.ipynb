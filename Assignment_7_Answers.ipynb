{
 "cells": [
  {
   "cell_type": "markdown",
   "id": "b264b4c2",
   "metadata": {},
   "source": [
    "<h1 align=\"center\" ><span style=\"color: blue; font-size: 48px; \"><b> Assignment No. 7</b></span></h1>\n",
    "\n",
    "<h1 style=\"font-family: Trebuchet MS; font-size: 14px; color: #34495E; text-align: right; \">Submitted By: Sachin Dodake</h1>\n",
    "\n",
    "<hr style=\"height:3px;border-width:1;color:blue;background-color:blue\">"
   ]
  },
  {
   "cell_type": "markdown",
   "id": "b16986c2",
   "metadata": {
    "ExecuteTime": {
     "end_time": "2023-06-11T19:28:31.900480Z",
     "start_time": "2023-06-11T19:28:31.878196Z"
    }
   },
   "source": [
    "###  Q.1. Create two int type variables, apply `addition, subtraction, division and multiplications` and store the results in variables. Then print the data in the following format by calling the variables:\n",
    "\n",
    "        First variable is __ & second variable is __.\n",
    "        Addition: __ + __ = __\n",
    "        Subtraction: __ - __ = __\n",
    "        Multiplication: __ * __ = __\n",
    "        Division: __ / __ = __"
   ]
  },
  {
   "cell_type": "markdown",
   "id": "7c2ba6b2",
   "metadata": {
    "ExecuteTime": {
     "end_time": "2023-06-11T19:29:46.272034Z",
     "start_time": "2023-06-11T19:29:46.263523Z"
    }
   },
   "source": [
    "**`Ans-1`** \n",
    "\n",
    "> - The program for mentioned arithmetic operation is as below:"
   ]
  },
  {
   "cell_type": "code",
   "execution_count": 14,
   "id": "16a565d5",
   "metadata": {
    "ExecuteTime": {
     "end_time": "2023-06-11T19:37:53.109074Z",
     "start_time": "2023-06-11T19:37:53.100326Z"
    }
   },
   "outputs": [
    {
     "name": "stdout",
     "output_type": "stream",
     "text": [
      "First variable is `5555` & second variable is `3333`.\n",
      "\tAddition: 5555 + 3333 = 8888\n",
      "\tSubtraction: 5555 - 3333= 2222\n",
      "\tMultiplication: 5555 * 3333 = 18514815\n",
      "\tDivision: 5555 / 3333= 1.6666666666666667\n"
     ]
    }
   ],
   "source": [
    "\n",
    "# defining int values to variables\n",
    "num_1 = 5555\n",
    "num_2 = 3333\n",
    "\n",
    "# performating adding\n",
    "add = num_1 + num_2\n",
    "# performating subtraction\n",
    "sub = num_1 - num_2\n",
    "# performating multiplication\n",
    "mul = num_1 * num_2\n",
    "# performating division\n",
    "div = num_1 / num_2\n",
    "\n",
    "print(f\"First variable is `{num_1}` & second variable is `{num_2}`.\")\n",
    "print(f\"\\tAddition: {num_1} + {num_2} = {add}\")\n",
    "print(f\"\\tSubtraction: {num_1} - {num_2}= {sub}\")\n",
    "print(f\"\\tMultiplication: {num_1} * {num_2} = {mul}\")\n",
    "print(f\"\\tDivision: {num_1} / {num_2}= {div}\")\n"
   ]
  },
  {
   "cell_type": "markdown",
   "id": "636bc79d",
   "metadata": {
    "ExecuteTime": {
     "end_time": "2023-06-11T19:29:09.425513Z",
     "start_time": "2023-06-11T19:29:09.406915Z"
    }
   },
   "source": [
    "###  Q.2. What is the difference between the following `operators`:\n",
    "\n",
    "        (i) ‘/’ & ‘//’\n",
    "        (ii) ‘**’ & ‘^’"
   ]
  },
  {
   "cell_type": "markdown",
   "id": "4858d89e",
   "metadata": {
    "ExecuteTime": {
     "end_time": "2023-06-11T19:38:50.747981Z",
     "start_time": "2023-06-11T19:38:50.733107Z"
    }
   },
   "source": [
    "**`Ans-2`**\n",
    "\n",
    "> **`i) ‘/’ & ‘//’ : `**\n",
    ">-  The difference between `Regular Division` `‘/’` and `Floor Division` `‘//’` is that the regular division returns the exact result in floating-point value. While, the floor division returns the nearest whole integer point value.\n",
    ">- In Python, the `single backslash (/)` is the division operator that performs division between two numbers and returns the result mostly in float.\n",
    ">- In Python, the `double backslash operator (//)` is a unique operator that performs the floor division. It divides two numbers and rounds the result down to its nearest integer.\n",
    ">- The double backslash operator in Python performs floor division between two operands. It rounds down the float value to its nearest whole integer-point value. The single backslash(/) operator or regular division operator performs normal division and returns the result mainly in a floating point.\n",
    ">- The double backslash(//) operator or floor division operator also performs normal division but returns the nearest integer value to the result. Python has a built-in function in the math module called the math.floor() that returns the floor value of any floating number.\n",
    ">- **`Example-1:`** The example which shows the difference between `Regular Division` `‘/’` and `Floor Division` `‘//’` is as below:"
   ]
  },
  {
   "cell_type": "code",
   "execution_count": 46,
   "id": "e24867f4",
   "metadata": {
    "ExecuteTime": {
     "end_time": "2023-06-11T20:31:37.354752Z",
     "start_time": "2023-06-11T20:31:37.347753Z"
    }
   },
   "outputs": [
    {
     "name": "stdout",
     "output_type": "stream",
     "text": [
      "Regular division of '14'  & '5' is = 2.8       ====> It is float value.\n",
      "\n",
      "Floor division of '14'  & '5' is =  2       ====> It is int  value.\n",
      "\n",
      "Floor division of '15.3'  & '5' is =  3.0       ====> It is float  value.\n"
     ]
    }
   ],
   "source": [
    "# defining  variables\n",
    "\n",
    "number_1 = 14\n",
    "number_2 = 5\n",
    "number_3 = 15.3\n",
    "\n",
    "print(f\"Regular division of '{number_1}'  & '{number_2}' is = {number_1/number_2}       ====> It is float value.\")    # this will give a float result\n",
    "\n",
    "print(f\"\\nFloor division of '{number_1}'  & '{number_2}' is =  {number_1//number_2}       ====> It is int  value.\")    # this will give a float result\n",
    "\n",
    "print(f\"\\nFloor division of '{number_3}'  & '{number_2}' is =  {number_3//number_2}       ====> It is float  value.\")    # this will give a float result"
   ]
  },
  {
   "cell_type": "markdown",
   "id": "9afade47",
   "metadata": {
    "ExecuteTime": {
     "end_time": "2023-06-11T19:38:50.747981Z",
     "start_time": "2023-06-11T19:38:50.733107Z"
    }
   },
   "source": [
    "> **`ii) ‘**’ & ‘^’ : `**\n",
    ">- **`Power/Exponential Opearator (**):`**\n",
    "        a. The operator that can be used to perform the exponent arithmetic in Python is know as power/exponential operator `**`. \n",
    "        b. In Python, we have an exponentiation operator, which is one of the ways to calculate the exponential value of the given base and exponent values.\n",
    "        c. We use the ( ** ) double asterisk/exponentiation operator between the base and exponent values."
   ]
  },
  {
   "cell_type": "code",
   "execution_count": 27,
   "id": "bf103609",
   "metadata": {
    "ExecuteTime": {
     "end_time": "2023-06-11T20:00:50.236378Z",
     "start_time": "2023-06-11T20:00:50.219072Z"
    }
   },
   "outputs": [
    {
     "name": "stdout",
     "output_type": "stream",
     "text": [
      "Exponential value is :  65536\n"
     ]
    }
   ],
   "source": [
    "# initializing the values of base and exponent\n",
    "base = 2\n",
    "exponent = 16\n",
    " \n",
    "# Use of exponentiation operator\n",
    "print(\"Exponential value is : \", base ** exponent) \n",
    " "
   ]
  },
  {
   "cell_type": "markdown",
   "id": "dd72ade2",
   "metadata": {
    "ExecuteTime": {
     "end_time": "2023-06-11T19:38:50.747981Z",
     "start_time": "2023-06-11T19:38:50.733107Z"
    }
   },
   "source": [
    ">- **`XOR Opearator (^):`**\n",
    "        a. The operator that can be used to perform the exponent arithmetic in Python is know as power/exponential operator `**`. \n",
    "        b. In Python, XOR is a bitwise operator that is also known as Exclusive OR.\n",
    "        c. It is a logical operator which outputs `1` when either of the operands is `1` (one is `1` and the other one is `0`), but both are not `1`, and both are not `0`."
   ]
  },
  {
   "cell_type": "code",
   "execution_count": 31,
   "id": "1f1f77ea",
   "metadata": {
    "ExecuteTime": {
     "end_time": "2023-06-11T20:06:25.370658Z",
     "start_time": "2023-06-11T20:06:25.361568Z"
    }
   },
   "outputs": [
    {
     "name": "stdout",
     "output_type": "stream",
     "text": [
      "XOR Opearation of `15` and `32` is :  `47`\n"
     ]
    }
   ],
   "source": [
    "# defining two integers a and b\n",
    "a = 15\n",
    "b = 32\n",
    "\n",
    "# Finding XOR of a and b using ^ operator\n",
    "c = a ^ b\n",
    "\n",
    "# Printing the XOR value\n",
    "print(f\"XOR Opearation of `{a}` and `{b}` is :  `{c}`\")\n"
   ]
  },
  {
   "cell_type": "markdown",
   "id": "24562c51",
   "metadata": {},
   "source": [
    "###  Q.3. List the `Logical Operators`."
   ]
  },
  {
   "cell_type": "markdown",
   "id": "465c0e40",
   "metadata": {},
   "source": [
    "**`Ans-3`**\n",
    "\n",
    ">- Logical Operators are used to perform certain logical operations on values and variables. These are the special reserved keywords that carry out some logical computations. The value the operator operates on is known as Operand. In Python, they are used on conditional statements (either True or False), and as a result, they return boolean only (True or False). They are used to combine conditional statements\n",
    ">- There are following logical operators supported by Python language:\n",
    "            i) Logical AND\n",
    "            ii) Logical OR\n",
    "            iii) Logical NOT\n",
    "            \n",
    "> **`i) Logical AND`**\n",
    ">- Logical operator AND returns True only if both the operands are True else it returns False. It is a binary operator, which means to return some value, it has to be operated between two operators (i.e, two operators are required)"
   ]
  },
  {
   "cell_type": "code",
   "execution_count": 35,
   "id": "e1e69f15",
   "metadata": {
    "ExecuteTime": {
     "end_time": "2023-06-11T20:15:38.061772Z",
     "start_time": "2023-06-11T20:15:38.043064Z"
    }
   },
   "outputs": [
    {
     "name": "stdout",
     "output_type": "stream",
     "text": [
      "Number `b` is larger\n"
     ]
    }
   ],
   "source": [
    "a = 12\n",
    "b = 26\n",
    "c = 4\n",
    "\n",
    "if a > b and a > c:\n",
    "    print(\"Number `a` is larger\")\n",
    "\n",
    "if b > a and b > c:\n",
    "    print(\"Number `b` is larger\")\n",
    "\n",
    "if c > a and c > b:\t\n",
    "    print(\"Number `c` is larger\")\n"
   ]
  },
  {
   "cell_type": "markdown",
   "id": "d965e1ab",
   "metadata": {},
   "source": [
    " \n",
    "> **`ii) Logical OR`**\n",
    ">- The logical operator OR returns False only if both the operands are False else it returns True. It is a binary operator, which means to return some value, it has to be operated between two operators (i.e, two operators are required)"
   ]
  },
  {
   "cell_type": "code",
   "execution_count": 37,
   "id": "ee9e1f95",
   "metadata": {
    "ExecuteTime": {
     "end_time": "2023-06-11T20:16:09.038682Z",
     "start_time": "2023-06-11T20:16:09.022470Z"
    }
   },
   "outputs": [
    {
     "name": "stdout",
     "output_type": "stream",
     "text": [
      "Their product will be `Negative`.\n"
     ]
    }
   ],
   "source": [
    "a = 10\n",
    "b = -5\n",
    "\n",
    "if a < 0 or b < 0:\n",
    "    print(\"Their product will be `Negative`.\")\n",
    "else:\n",
    "    print(\"Their product will be `Positive`.\")\n"
   ]
  },
  {
   "cell_type": "markdown",
   "id": "a06d2afc",
   "metadata": {},
   "source": [
    " > **`iii) Logical NOT`**\n",
    ">- Logical NOT operator works with the single boolean value and returns the value as True if the boolean value is False and vice-versa (that is the opposite of it).  It is a unary operator, which means to return some value, it has to be operated on one operator only. (i.e, only operator is required) \n",
    " "
   ]
  },
  {
   "cell_type": "code",
   "execution_count": 38,
   "id": "39c8e002",
   "metadata": {
    "ExecuteTime": {
     "end_time": "2023-06-11T20:16:32.112923Z",
     "start_time": "2023-06-11T20:16:32.099569Z"
    }
   },
   "outputs": [
    {
     "name": "stdout",
     "output_type": "stream",
     "text": [
      "`a` equals `10`\n"
     ]
    }
   ],
   "source": [
    "a = 10\n",
    "\n",
    "if not a == 10:\n",
    "    print (\"`a` not equals `10`\")\n",
    "else:\n",
    "    print(\"`a` equals `10`\")\n"
   ]
  },
  {
   "cell_type": "markdown",
   "id": "290a1317",
   "metadata": {
    "ExecuteTime": {
     "end_time": "2023-06-11T19:29:18.684949Z",
     "start_time": "2023-06-11T19:29:18.666928Z"
    }
   },
   "source": [
    "###  Q.4. Explain `right shift operator` and `left shift operator` with examples."
   ]
  },
  {
   "cell_type": "markdown",
   "id": "eea02fc4",
   "metadata": {},
   "source": [
    "**`Ans-4`**\n",
    "\n",
    "> **`i) Left Shift(<<) : `**\n",
    ">- Bitwise Left shift operator is used to shift the binary sequence to the left side by specified position.\n",
    ">- The bitwise left shift operator (<<) moves the bits of its first operand to the left by the number of places specified in its second operand. It also takes care of inserting enough zero bits to fill the gap that arises on the right edge of the new bit pattern.\n",
    ">- Shifting a single bit to the left by one place doubles its value. For example, instead of a two, the bit will indicate a four after the shift. Moving it two places to the left will quadruple the resulting value. When you add up all the bits in a given number, you’ll notice that it also gets doubled with every place shifted.\n",
    ">- **`Example-1`** The example which explain the `Right-Shift` operation is as below,"
   ]
  },
  {
   "cell_type": "code",
   "execution_count": 47,
   "id": "ca896a6a",
   "metadata": {
    "ExecuteTime": {
     "end_time": "2023-06-11T20:32:23.378432Z",
     "start_time": "2023-06-11T20:32:23.363777Z"
    }
   },
   "outputs": [
    {
     "name": "stdout",
     "output_type": "stream",
     "text": [
      "Operand 1 is: 14\n",
      "operand 2 is: 2\n",
      "Result of the let shift operation on `14` by `2` bits is : 56.\n"
     ]
    }
   ],
   "source": [
    "num1 = 14\n",
    "num2 = 2\n",
    "shift_left = num1 << num2\n",
    "print(\"Operand 1 is:\", num1)\n",
    "print(\"operand 2 is:\", num2)\n",
    "print(f\"Result of the let shift operation on `{num1}` by `{num2}` bits is : {shift_left}.\")"
   ]
  },
  {
   "cell_type": "markdown",
   "id": "7a107463",
   "metadata": {},
   "source": [
    "> **`ii) Right Shift(>>) : `**\n",
    ">- Bitwise Right shift operator >> is used to shift the binary sequence to right side by specified position.\n",
    ">- The bitwise right shift operator (>>) is analogous to the left one, but instead of moving bits to the left, it pushes them to the right by the specified number of places. The rightmost bits always get dropped.\n",
    ">- Every time you shift a bit to the right by one position, you halve its underlying value. Moving the same bit by two places to the right produces a quarter of the original value, and so on.When you add up all the individual bits, you’ll see that the same rule applies to the number they represent:\n",
    ">- **`Example-2`** The example which explain the `Left-Shift` operation is as below,"
   ]
  },
  {
   "cell_type": "code",
   "execution_count": 45,
   "id": "6c166ea4",
   "metadata": {
    "ExecuteTime": {
     "end_time": "2023-06-11T20:30:53.002735Z",
     "start_time": "2023-06-11T20:30:52.980289Z"
    }
   },
   "outputs": [
    {
     "name": "stdout",
     "output_type": "stream",
     "text": [
      "Operand 1 is: 14\n",
      "operand 2 is: 2\n",
      "Result of the right shift operation on `14` by `2` bits is : 3.\n"
     ]
    }
   ],
   "source": [
    "num1 = 14\n",
    "num2 = 2\n",
    "shift_right = num1 >> num2\n",
    "print(\"Operand 1 is:\", num1)\n",
    "print(\"operand 2 is:\", num2)\n",
    "print(f\"Result of the right shift operation on `{num1}` by `{num2}` bits is : {shift_right}.\")"
   ]
  },
  {
   "cell_type": "markdown",
   "id": "129932cf",
   "metadata": {},
   "source": [
    "###  Q.5. Create a list containing int type data of length 15. Then write a code to check if 10 is present in the list or not"
   ]
  },
  {
   "cell_type": "markdown",
   "id": "7f06c55d",
   "metadata": {},
   "source": [
    "**`Ans-5`**"
   ]
  },
  {
   "cell_type": "code",
   "execution_count": 60,
   "id": "4f5e6cdb",
   "metadata": {
    "ExecuteTime": {
     "end_time": "2023-06-11T20:43:19.179845Z",
     "start_time": "2023-06-11T20:43:17.642544Z"
    }
   },
   "outputs": [
    {
     "name": "stdout",
     "output_type": "stream",
     "text": [
      "The length of given list is :  15\n",
      "\n",
      "Enter the number: 8\n",
      "\tThe number 8 is AVAILABLE in given list.\n"
     ]
    }
   ],
   "source": [
    "# creating list with 15 elements\n",
    "num_list = [1, 2, 3, 4, 5, 6, 7, 8, 9, 10, 11, 12, 13, 14, 15 ]\n",
    "\n",
    "\n",
    "# checking lenght of list\n",
    "print(f\"The length of given list is :  {len(num_list)}\")\n",
    "\n",
    "# taking element from user element \n",
    "check_num = int(input(\"\\nEnter the number: \"))\n",
    "\n",
    "if check_num in num_list:\n",
    "    print(f\"\\tThe number {check_num} is AVAILABLE in given list.\")\n",
    "else:\n",
    "    print(f\"\\tThe entered number `{check_num}` is NOT AVAILABLE in given list.\")"
   ]
  },
  {
   "cell_type": "code",
   "execution_count": null,
   "id": "9265781c",
   "metadata": {},
   "outputs": [],
   "source": []
  }
 ],
 "metadata": {
  "hide_input": false,
  "kernelspec": {
   "display_name": "Python 3 (ipykernel)",
   "language": "python",
   "name": "python3"
  },
  "language_info": {
   "codemirror_mode": {
    "name": "ipython",
    "version": 3
   },
   "file_extension": ".py",
   "mimetype": "text/x-python",
   "name": "python",
   "nbconvert_exporter": "python",
   "pygments_lexer": "ipython3",
   "version": "3.10.9"
  },
  "varInspector": {
   "cols": {
    "lenName": 16,
    "lenType": 16,
    "lenVar": 40
   },
   "kernels_config": {
    "python": {
     "delete_cmd_postfix": "",
     "delete_cmd_prefix": "del ",
     "library": "var_list.py",
     "varRefreshCmd": "print(var_dic_list())"
    },
    "r": {
     "delete_cmd_postfix": ") ",
     "delete_cmd_prefix": "rm(",
     "library": "var_list.r",
     "varRefreshCmd": "cat(var_dic_list()) "
    }
   },
   "types_to_exclude": [
    "module",
    "function",
    "builtin_function_or_method",
    "instance",
    "_Feature"
   ],
   "window_display": false
  }
 },
 "nbformat": 4,
 "nbformat_minor": 5
}
